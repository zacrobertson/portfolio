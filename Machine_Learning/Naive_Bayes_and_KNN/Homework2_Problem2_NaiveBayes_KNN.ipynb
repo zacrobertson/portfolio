{
 "cells": [
  {
   "cell_type": "markdown",
   "metadata": {},
   "source": [
    "# Naive Bayes"
   ]
  },
  {
   "cell_type": "code",
   "execution_count": 201,
   "metadata": {
    "collapsed": true
   },
   "outputs": [],
   "source": [
    "import pandas as pd\n",
    "import numpy as np\n",
    "import matplotlib.pyplot as plt\n",
    "%matplotlib inline"
   ]
  },
  {
   "cell_type": "code",
   "execution_count": 202,
   "metadata": {
    "collapsed": true
   },
   "outputs": [],
   "source": [
    "xtest = pd.read_csv('X_test.csv', header=None)\n",
    "ytest = pd.read_csv('y_test.csv', header=None)\n",
    "xtrain = pd.read_csv('X_train.csv', header=None)\n",
    "ytrain = pd.read_csv('y_train.csv', header=None)"
   ]
  },
  {
   "cell_type": "code",
   "execution_count": 203,
   "metadata": {
    "collapsed": false
   },
   "outputs": [],
   "source": [
    "pi_mle = ytrain.mean()"
   ]
  },
  {
   "cell_type": "code",
   "execution_count": 204,
   "metadata": {
    "collapsed": false
   },
   "outputs": [],
   "source": [
    "#Create two separate theta parameters per column\n",
    "#One from the subset of x's matching a y = 0, and one for y = 1\n",
    "\n",
    "bern_mle_y0 = []\n",
    "bern_mle_y1 = []\n",
    "\n",
    "for i in range(54):\n",
    "    zeroes_list = []\n",
    "    ones_list = []\n",
    "    for j in range(len(xtrain)):\n",
    "        if ytrain[0][j] == 0:\n",
    "            zeroes_list.append(xtrain[i][j])\n",
    "        if ytrain[0][j] == 1:\n",
    "            ones_list.append(xtrain[i][j])\n",
    "    bern_mle_y0.append(np.mean(zeroes_list))\n",
    "    bern_mle_y1.append(np.mean(ones_list))"
   ]
  },
  {
   "cell_type": "code",
   "execution_count": 205,
   "metadata": {
    "collapsed": true
   },
   "outputs": [],
   "source": [
    "#Create two separate theta parameters per column\n",
    "#One from the subset of x's matching a y = 0, and one for y = 1\n",
    "\n",
    "pareto_mle_y0 = []\n",
    "pareto_mle_y1 = []\n",
    "\n",
    "for i in (54, 55, 56):\n",
    "    zeroes_list = []\n",
    "    ones_list = []  \n",
    "    for j in range(len(xtrain)):\n",
    "        if ytrain[0][j] == 0:\n",
    "            zeroes_list.append(xtrain[i][j])\n",
    "        if ytrain[0][j] == 1:\n",
    "            ones_list.append(xtrain[i][j])    \n",
    "\n",
    "    temp1 = 0\n",
    "    for k in range(len(zeroes_list)):\n",
    "        temp1 += np.log(zeroes_list[k])\n",
    "    pareto_mle_y0.append(len(zeroes_list)/temp1)\n",
    "    temp2 = 0\n",
    "    for m in range(len(ones_list)):\n",
    "        temp2 += np.log(ones_list[m])\n",
    "    pareto_mle_y1.append(len(ones_list)/temp2)"
   ]
  },
  {
   "cell_type": "code",
   "execution_count": 206,
   "metadata": {
    "collapsed": true
   },
   "outputs": [],
   "source": [
    "def bern(theta, x):\n",
    "    bern_var = (theta**x) * (1 - theta)**(1 - x)\n",
    "    return bern_var"
   ]
  },
  {
   "cell_type": "code",
   "execution_count": 207,
   "metadata": {
    "collapsed": true
   },
   "outputs": [],
   "source": [
    "def pareto(theta, x):\n",
    "    pareto_var = theta * x**(-theta - 1)\n",
    "    return pareto_var"
   ]
  },
  {
   "cell_type": "code",
   "execution_count": 208,
   "metadata": {
    "collapsed": true
   },
   "outputs": [],
   "source": [
    "#Create a function that calculates based on both possible thetas per column\n",
    "#Create predict_y0 and predict_y1 vars, pick the greater one for real prediction"
   ]
  },
  {
   "cell_type": "code",
   "execution_count": 209,
   "metadata": {
    "collapsed": false
   },
   "outputs": [],
   "source": [
    "predict_y0 = []\n",
    "\n",
    "for i in range(len(xtest)):\n",
    "    y0_list = []\n",
    "\n",
    "    y0_list.append(1 - pi_mle[0])\n",
    "\n",
    "    for j in range(54):\n",
    "        y0_list.append(bern(bern_mle_y0[j], xtest[j][i]))\n",
    "\n",
    "    for j in (54, 55, 56):\n",
    "        y0_list.append(pareto(pareto_mle_y0[j-54], xtest[j][i])) #HACKY \"-54\" TO FIX OFFSET DFS \n",
    "        \n",
    "    predict_y0.append(np.prod(y0_list))"
   ]
  },
  {
   "cell_type": "code",
   "execution_count": 210,
   "metadata": {
    "collapsed": true
   },
   "outputs": [],
   "source": [
    "predict_y1 = []\n",
    "\n",
    "for i in range(len(xtest)):\n",
    "    y1_list = []\n",
    "\n",
    "    y1_list.append(pi_mle[0])\n",
    "\n",
    "    for j in range(54):\n",
    "        y1_list.append(bern(bern_mle_y1[j], xtest[j][i]))\n",
    "\n",
    "    for j in (54, 55, 56):\n",
    "        y1_list.append(pareto(pareto_mle_y1[j-54], xtest[j][i])) #HACKY \"-54\" TO FIX OFFSET DFS \n",
    "        \n",
    "    predict_y1.append(np.prod(y1_list))"
   ]
  },
  {
   "cell_type": "code",
   "execution_count": 211,
   "metadata": {
    "collapsed": true
   },
   "outputs": [],
   "source": [
    "predicted_y = []\n",
    "\n",
    "for i in range(len(xtest)):\n",
    "    if predict_y0[i] > predict_y1[i]:\n",
    "        predicted_y.append(0)\n",
    "    else:\n",
    "        predicted_y.append(1)"
   ]
  },
  {
   "cell_type": "code",
   "execution_count": 212,
   "metadata": {
    "collapsed": true
   },
   "outputs": [],
   "source": [
    "from sklearn.metrics import confusion_matrix"
   ]
  },
  {
   "cell_type": "code",
   "execution_count": 213,
   "metadata": {
    "collapsed": false
   },
   "outputs": [
    {
     "data": {
      "text/plain": [
       "array([[54,  2],\n",
       "       [ 5, 32]])"
      ]
     },
     "execution_count": 213,
     "metadata": {},
     "output_type": "execute_result"
    }
   ],
   "source": [
    "confusion_matrix(ytest, predicted_y)"
   ]
  },
  {
   "cell_type": "markdown",
   "metadata": {},
   "source": [
    "## Naive Bayes Stem Plot"
   ]
  },
  {
   "cell_type": "code",
   "execution_count": 250,
   "metadata": {
    "collapsed": false
   },
   "outputs": [
    {
     "data": {
      "image/png": "[encoded data removed]",
      "text/plain": [
       "<matplotlib.figure.Figure at 0x10ec4c828>"
      ]
     },
     "metadata": {},
     "output_type": "display_data"
    }
   ],
   "source": [
    "import matplotlib.patches as mpatches\n",
    "\n",
    "markerline0, stemlines0, baseline0 = plt.stem(range(1, 55), bern_mle_y0, label = 'theta0')\n",
    "markerline1, stemlines1, baseline1 = plt.stem(range(1, 55), bern_mle_y1, label = 'theta1')\n",
    "plt.setp(stemlines0, color = 'orange')\n",
    "plt.setp(markerline0, color = 'orange')\n",
    "\n",
    "orange_patch = mpatches.Patch(color='orange', label='Not Spam')\n",
    "blue_patch = mpatches.Patch(color='blue', label='Spam')\n",
    "plt.legend(handles=[orange_patch, blue_patch], loc = 2)\n",
    "\n",
    "plt.show()"
   ]
  },
  {
   "cell_type": "markdown",
   "metadata": {},
   "source": [
    "# KNN"
   ]
  },
  {
   "cell_type": "code",
   "execution_count": 290,
   "metadata": {
    "collapsed": true
   },
   "outputs": [],
   "source": [
    "def abs_distance(row1, row2):\n",
    "    dist = 0\n",
    "    for j in range(len(row1)):\n",
    "        dist += abs(row1[j] - row2[j])\n",
    "    return dist"
   ]
  },
  {
   "cell_type": "code",
   "execution_count": 291,
   "metadata": {
    "collapsed": true
   },
   "outputs": [],
   "source": [
    "#store both row number and distance\n",
    "#get full list of distances, then sort, then take only top k"
   ]
  },
  {
   "cell_type": "code",
   "execution_count": 389,
   "metadata": {
    "collapsed": false
   },
   "outputs": [],
   "source": [
    "ypred_all_k = []\n",
    "\n",
    "for k in range(1,21):\n",
    "    ypred_knn = []\n",
    "    for newrow in range(len(xtest)):\n",
    "        comp_matrix = []\n",
    "        comp_y = []\n",
    "        for oldrow in range(len(xtrain)):\n",
    "            comp_matrix.append([oldrow, abs_distance(xtest.ix[newrow], xtrain.ix[oldrow])]) #xtest.ix[newrow]\n",
    "        comp_matrix = np.array(comp_matrix)\n",
    "        comp_matrix = comp_matrix[np.argsort(comp_matrix[:,1])]\n",
    "        comp_matrix = comp_matrix[0:k][:,0]\n",
    "        for i in comp_matrix:\n",
    "            comp_y.append(ytrain.ix[i][0])\n",
    "        ypred_knn.append(int(round(np.mean(comp_y))))\n",
    "    ypred_all_k.append(ypred_knn)"
   ]
  },
  {
   "cell_type": "code",
   "execution_count": 392,
   "metadata": {
    "collapsed": false
   },
   "outputs": [
    {
     "data": {
      "text/plain": [
       "(20, 93)"
      ]
     },
     "execution_count": 392,
     "metadata": {},
     "output_type": "execute_result"
    }
   ],
   "source": [
    "np.array(ypred_all_k).shape"
   ]
  },
  {
   "cell_type": "code",
   "execution_count": 396,
   "metadata": {
    "collapsed": false
   },
   "outputs": [],
   "source": [
    "knn_results = pd.DataFrame(ypred_all_k)"
   ]
  },
  {
   "cell_type": "code",
   "execution_count": 398,
   "metadata": {
    "collapsed": false,
    "scrolled": true
   },
   "outputs": [],
   "source": [
    "knn_results = knn_results.transpose()"
   ]
  },
  {
   "cell_type": "code",
   "execution_count": 401,
   "metadata": {
    "collapsed": true
   },
   "outputs": [],
   "source": [
    "from sklearn.metrics import accuracy_score"
   ]
  },
  {
   "cell_type": "code",
   "execution_count": 409,
   "metadata": {
    "collapsed": false
   },
   "outputs": [],
   "source": [
    "knn_accuracy = []\n",
    "\n",
    "for i in range(knn_results.shape[1]):\n",
    "    knn_accuracy.append(accuracy_score(ytest, knn_results[i]))"
   ]
  },
  {
   "cell_type": "code",
   "execution_count": 413,
   "metadata": {
    "collapsed": false
   },
   "outputs": [
    {
     "data": {
      "image/png": "[encoded data removed]",
      "text/plain": [
       "<matplotlib.figure.Figure at 0x1150c1780>"
      ]
     },
     "metadata": {},
     "output_type": "display_data"
    }
   ],
   "source": [
    "plt.plot(range(1,21), knn_accuracy)\n",
    "plt.ylabel('KNN Accuracy')\n",
    "plt.xlabel('Value of K')\n",
    "plt.show()"
   ]
  },
  {
   "cell_type": "code",
   "execution_count": 414,
   "metadata": {
    "collapsed": false
   },
   "outputs": [
    {
     "data": {
      "text/plain": [
       "[0.88172043010752688,\n",
       " 0.86021505376344087,\n",
       " 0.87096774193548387,\n",
       " 0.90322580645161288,\n",
       " 0.90322580645161288,\n",
       " 0.90322580645161288,\n",
       " 0.89247311827956988,\n",
       " 0.87096774193548387,\n",
       " 0.88172043010752688,\n",
       " 0.88172043010752688,\n",
       " 0.86021505376344087,\n",
       " 0.88172043010752688,\n",
       " 0.87096774193548387,\n",
       " 0.89247311827956988,\n",
       " 0.87096774193548387,\n",
       " 0.87096774193548387,\n",
       " 0.87096774193548387,\n",
       " 0.88172043010752688,\n",
       " 0.87096774193548387,\n",
       " 0.86021505376344087]"
      ]
     },
     "execution_count": 414,
     "metadata": {},
     "output_type": "execute_result"
    }
   ],
   "source": [
    "knn_accuracy"
   ]
  },
  {
   "cell_type": "code",
   "execution_count": 415,
   "metadata": {
    "collapsed": false
   },
   "outputs": [
    {
     "name": "stdout",
     "output_type": "stream",
     "text": [
      "[NbConvertApp] Converting notebook Homework2_Problem2_NaiveBayes_KNN.ipynb to script\n",
      "[NbConvertApp] Writing 4981 bytes to Homework2_Problem2_NaiveBayes_KNN.py\n"
     ]
    }
   ],
   "source": [
    "!jupyter nbconvert --to script Homework2_Problem2_NaiveBayes_KNN.ipynb"
   ]
  },
  {
   "cell_type": "code",
   "execution_count": null,
   "metadata": {
    "collapsed": true
   },
   "outputs": [],
   "source": []
  }
 ],
 "metadata": {
  "anaconda-cloud": {},
  "kernelspec": {
   "display_name": "Python [default]",
   "language": "python",
   "name": "python3"
  },
  "language_info": {
   "codemirror_mode": {
    "name": "ipython",
    "version": 3
   },
   "file_extension": ".py",
   "mimetype": "text/x-python",
   "name": "python",
   "nbconvert_exporter": "python",
   "pygments_lexer": "ipython3",
   "version": "3.5.2"
  }
 },
 "nbformat": 4,
 "nbformat_minor": 1
}
