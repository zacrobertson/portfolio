{
 "cells": [
  {
   "cell_type": "code",
   "execution_count": 196,
   "metadata": {
    "collapsed": true
   },
   "outputs": [],
   "source": [
    "import pandas as pd\n",
    "import numpy as np\n",
    "import matplotlib.pyplot as plt\n",
    "%matplotlib inline\n",
    "\n",
    "from sklearn.metrics import mean_squared_error"
   ]
  },
  {
   "cell_type": "code",
   "execution_count": 2,
   "metadata": {
    "collapsed": true
   },
   "outputs": [],
   "source": [
    "xtest = pd.read_csv('X_test.csv', header=None)\n",
    "ytest = pd.read_csv('y_test.csv', header=None)\n",
    "xtrain = pd.read_csv('X_train.csv', header=None)\n",
    "ytrain = pd.read_csv('y_train.csv', header=None)"
   ]
  },
  {
   "cell_type": "code",
   "execution_count": 3,
   "metadata": {
    "collapsed": true
   },
   "outputs": [],
   "source": [
    "#setting values for now. Will need to loop through later\n",
    "b = 5\n",
    "var = 0.1"
   ]
  },
  {
   "cell_type": "code",
   "execution_count": 16,
   "metadata": {
    "collapsed": true
   },
   "outputs": [],
   "source": [
    "def kernelize(x1, x2, b):\n",
    "    kern_output = np.exp(-1/b * np.linalg.norm(x1 - x2) ** 2)\n",
    "    return kern_output"
   ]
  },
  {
   "cell_type": "code",
   "execution_count": 79,
   "metadata": {
    "collapsed": true
   },
   "outputs": [],
   "source": [
    "full_kern_mat = []\n",
    "\n",
    "#RBF b values as defined in assignment\n",
    "\n",
    "for b in (5, 7, 9, 11, 13, 15):\n",
    "    kern_mat = []\n",
    "    for i in range(len(xtrain)):\n",
    "        kern_array = []\n",
    "        for j in range(len(xtrain)):\n",
    "            kern_array.append(kernelize(xtrain.loc[i], xtrain.loc[j], b))\n",
    "        kern_mat.append(kern_array)\n",
    "    full_kern_mat.append(kern_mat)"
   ]
  },
  {
   "cell_type": "code",
   "execution_count": 100,
   "metadata": {
    "collapsed": true
   },
   "outputs": [],
   "source": [
    "full_kern_mat = np.array(full_kern_mat)"
   ]
  },
  {
   "cell_type": "code",
   "execution_count": 93,
   "metadata": {
    "collapsed": true
   },
   "outputs": [],
   "source": [
    "#create identity matrix\n",
    "i_mat = np.identity(len(xtrain))"
   ]
  },
  {
   "cell_type": "code",
   "execution_count": 125,
   "metadata": {
    "collapsed": false
   },
   "outputs": [],
   "source": [
    "#statically calculate last part of Gaussian Process prediction equation\n",
    "#variance values as defined in assignment\n",
    "\n",
    "multiplier = []\n",
    "\n",
    "for var in [.1, .2, .3, .4, .5, .6, .7, .8, .9, 1]: \n",
    "    var_mat = var * i_mat\n",
    "    temp_array = []\n",
    "    for b in range(len(full_kern_mat)):\n",
    "        temp_array.append(np.dot(np.linalg.inv(var_mat + full_kern_mat[b]), ytrain))\n",
    "    multiplier.append(temp_array)    \n",
    "    \n",
    "multiplier = np.squeeze(np.array(multiplier))"
   ]
  },
  {
   "cell_type": "code",
   "execution_count": 173,
   "metadata": {
    "collapsed": false
   },
   "outputs": [],
   "source": [
    "estimate_matrix = []\n",
    "\n",
    "#for var in [0]:\n",
    "for var in range(len(multiplier)):\n",
    "    temp_matrix = []\n",
    "    for b in range(multiplier.shape[1]):\n",
    "        real_b = 2*b+5 #changes 0-6 index to 5, 7, 9, etc.\n",
    "        est_array = []   \n",
    "        for i in range(len(xtest)):\n",
    "            kern_array = []\n",
    "            for j in range(len(xtrain)):\n",
    "                kern_array.append(kernelize(xtest.loc[i], xtrain.loc[j], real_b))\n",
    "            z1 = np.transpose(pd.DataFrame(kern_array))\n",
    "            z2 = np.reshape(multiplier[var][b], ((len(multiplier[0][0]), 1))) \n",
    "            est_array.append(np.dot(z1, z2))\n",
    "        est_array = np.squeeze(est_array)\n",
    "        temp_matrix.append(est_array)\n",
    "    estimate_matrix.append(temp_matrix)"
   ]
  },
  {
   "cell_type": "code",
   "execution_count": 191,
   "metadata": {
    "collapsed": true
   },
   "outputs": [],
   "source": [
    "estimate_matrix = np.array(estimate_matrix)"
   ]
  },
  {
   "cell_type": "code",
   "execution_count": 219,
   "metadata": {
    "collapsed": false
   },
   "outputs": [],
   "source": [
    "rmse = []\n",
    "\n",
    "for i in range(estimate_matrix.shape[0]):\n",
    "    temp_rmse = []\n",
    "    for j in range(estimate_matrix.shape[1]):\n",
    "        #for x in estimate_matrix.shape[2]:\n",
    "            #temp_var += (estimate_matrix[i][j] - np.squeeze(ytest))**2  \n",
    "        temp_rmse.append(np.sqrt(mean_squared_error(estimate_matrix[i][j], np.squeeze(ytest)))) #FIX\n",
    "    rmse.append(temp_rmse)"
   ]
  },
  {
   "cell_type": "code",
   "execution_count": 220,
   "metadata": {
    "collapsed": false
   },
   "outputs": [],
   "source": [
    "rmse = pd.DataFrame(rmse) #row 0 col 3 is min"
   ]
  },
  {
   "cell_type": "code",
   "execution_count": 221,
   "metadata": {
    "collapsed": true
   },
   "outputs": [],
   "source": [
    "rmse = rmse.set_index([[.1, .2, .3, .4, .5, .6, .7, .8, .9, 1]])"
   ]
  },
  {
   "cell_type": "code",
   "execution_count": 222,
   "metadata": {
    "collapsed": true
   },
   "outputs": [],
   "source": [
    "rmse.rename(columns={0:5, 1:7, 2:9, 3:11, 4:13, 5:15}, inplace=True)"
   ]
  },
  {
   "cell_type": "code",
   "execution_count": 223,
   "metadata": {
    "collapsed": false
   },
   "outputs": [
    {
     "data": {
      "text/html": [
       "<div>\n",
       "<table border=\"1\" class=\"dataframe\">\n",
       "  <thead>\n",
       "    <tr style=\"text-align: right;\">\n",
       "      <th></th>\n",
       "      <th>5</th>\n",
       "      <th>7</th>\n",
       "      <th>9</th>\n",
       "      <th>11</th>\n",
       "      <th>13</th>\n",
       "      <th>15</th>\n",
       "    </tr>\n",
       "  </thead>\n",
       "  <tbody>\n",
       "    <tr>\n",
       "      <th>0.1</th>\n",
       "      <td>1.966276</td>\n",
       "      <td>1.920163</td>\n",
       "      <td>1.897649</td>\n",
       "      <td>1.890507</td>\n",
       "      <td>1.895849</td>\n",
       "      <td>1.909603</td>\n",
       "    </tr>\n",
       "    <tr>\n",
       "      <th>0.2</th>\n",
       "      <td>1.933135</td>\n",
       "      <td>1.904877</td>\n",
       "      <td>1.902519</td>\n",
       "      <td>1.914981</td>\n",
       "      <td>1.935586</td>\n",
       "      <td>1.959549</td>\n",
       "    </tr>\n",
       "    <tr>\n",
       "      <th>0.3</th>\n",
       "      <td>1.923420</td>\n",
       "      <td>1.908080</td>\n",
       "      <td>1.917648</td>\n",
       "      <td>1.938849</td>\n",
       "      <td>1.964597</td>\n",
       "      <td>1.990804</td>\n",
       "    </tr>\n",
       "    <tr>\n",
       "      <th>0.4</th>\n",
       "      <td>1.922198</td>\n",
       "      <td>1.915902</td>\n",
       "      <td>1.932514</td>\n",
       "      <td>1.957936</td>\n",
       "      <td>1.985502</td>\n",
       "      <td>2.011915</td>\n",
       "    </tr>\n",
       "    <tr>\n",
       "      <th>0.5</th>\n",
       "      <td>1.924769</td>\n",
       "      <td>1.924804</td>\n",
       "      <td>1.945699</td>\n",
       "      <td>1.973216</td>\n",
       "      <td>2.001314</td>\n",
       "      <td>2.027370</td>\n",
       "    </tr>\n",
       "    <tr>\n",
       "      <th>0.6</th>\n",
       "      <td>1.929213</td>\n",
       "      <td>1.933701</td>\n",
       "      <td>1.957235</td>\n",
       "      <td>1.985764</td>\n",
       "      <td>2.013878</td>\n",
       "      <td>2.039465</td>\n",
       "    </tr>\n",
       "    <tr>\n",
       "      <th>0.7</th>\n",
       "      <td>1.934634</td>\n",
       "      <td>1.942254</td>\n",
       "      <td>1.967403</td>\n",
       "      <td>1.996375</td>\n",
       "      <td>2.024310</td>\n",
       "      <td>2.049463</td>\n",
       "    </tr>\n",
       "    <tr>\n",
       "      <th>0.8</th>\n",
       "      <td>1.940583</td>\n",
       "      <td>1.950380</td>\n",
       "      <td>1.976492</td>\n",
       "      <td>2.005603</td>\n",
       "      <td>2.033307</td>\n",
       "      <td>2.058105</td>\n",
       "    </tr>\n",
       "    <tr>\n",
       "      <th>0.9</th>\n",
       "      <td>1.946820</td>\n",
       "      <td>1.958093</td>\n",
       "      <td>1.984741</td>\n",
       "      <td>2.013835</td>\n",
       "      <td>2.041317</td>\n",
       "      <td>2.065845</td>\n",
       "    </tr>\n",
       "    <tr>\n",
       "      <th>1.0</th>\n",
       "      <td>1.953213</td>\n",
       "      <td>1.965438</td>\n",
       "      <td>1.992341</td>\n",
       "      <td>2.021345</td>\n",
       "      <td>2.048642</td>\n",
       "      <td>2.072976</td>\n",
       "    </tr>\n",
       "  </tbody>\n",
       "</table>\n",
       "</div>"
      ],
      "text/plain": [
       "           5         7         9         11        13        15\n",
       "0.1  1.966276  1.920163  1.897649  1.890507  1.895849  1.909603\n",
       "0.2  1.933135  1.904877  1.902519  1.914981  1.935586  1.959549\n",
       "0.3  1.923420  1.908080  1.917648  1.938849  1.964597  1.990804\n",
       "0.4  1.922198  1.915902  1.932514  1.957936  1.985502  2.011915\n",
       "0.5  1.924769  1.924804  1.945699  1.973216  2.001314  2.027370\n",
       "0.6  1.929213  1.933701  1.957235  1.985764  2.013878  2.039465\n",
       "0.7  1.934634  1.942254  1.967403  1.996375  2.024310  2.049463\n",
       "0.8  1.940583  1.950380  1.976492  2.005603  2.033307  2.058105\n",
       "0.9  1.946820  1.958093  1.984741  2.013835  2.041317  2.065845\n",
       "1.0  1.953213  1.965438  1.992341  2.021345  2.048642  2.072976"
      ]
     },
     "execution_count": 223,
     "metadata": {},
     "output_type": "execute_result"
    }
   ],
   "source": [
    "rmse"
   ]
  },
  {
   "cell_type": "markdown",
   "metadata": {},
   "source": [
    "# Part D"
   ]
  },
  {
   "cell_type": "code",
   "execution_count": 227,
   "metadata": {
    "collapsed": true
   },
   "outputs": [],
   "source": [
    "carweight = xtrain[3]"
   ]
  },
  {
   "cell_type": "code",
   "execution_count": 229,
   "metadata": {
    "collapsed": false
   },
   "outputs": [],
   "source": [
    "weight_kern_mat = []\n",
    "\n",
    "#RBF b values as defined in assignment\n",
    "\n",
    "for b in [5]:\n",
    "    kern_mat = []\n",
    "    for i in range(len(xtrain)):\n",
    "        kern_array = []\n",
    "        for j in range(len(xtrain)):\n",
    "            kern_array.append(kernelize(carweight.loc[i], carweight.loc[j], b))\n",
    "        kern_mat.append(kern_array)\n",
    "    weight_kern_mat.append(kern_mat)"
   ]
  },
  {
   "cell_type": "code",
   "execution_count": 230,
   "metadata": {
    "collapsed": true
   },
   "outputs": [],
   "source": [
    "weight_kern_mat = np.array(weight_kern_mat)"
   ]
  },
  {
   "cell_type": "code",
   "execution_count": 266,
   "metadata": {
    "collapsed": true
   },
   "outputs": [],
   "source": [
    "weight_multiplier = []\n",
    "\n",
    "for var in [2]: \n",
    "    var_mat = var * i_mat\n",
    "    temp_array = []\n",
    "    for b in range(len(weight_kern_mat)):\n",
    "        temp_array.append(np.dot(np.linalg.inv(var_mat + weight_kern_mat[b]), ytrain))\n",
    "    weight_multiplier.append(temp_array)    \n",
    "    \n",
    "weight_multiplier = np.array(weight_multiplier)[:, :, :, 0]"
   ]
  },
  {
   "cell_type": "code",
   "execution_count": 241,
   "metadata": {
    "collapsed": true
   },
   "outputs": [],
   "source": [
    "#weight_multiplier = np.reshape(weight_multiplier, ((len(weight_multiplier), 1))) "
   ]
  },
  {
   "cell_type": "code",
   "execution_count": 270,
   "metadata": {
    "collapsed": false
   },
   "outputs": [],
   "source": [
    "weight_estimate_matrix = []\n",
    "\n",
    "#for var in [0]:\n",
    "for var in range(len(weight_multiplier)):\n",
    "    temp_matrix = []\n",
    "    for b in range(weight_multiplier.shape[1]):\n",
    "        real_b = 2*b+5 #changes 0-6 index to 5, 7, 9, etc.\n",
    "        est_array = []   \n",
    "        for i in range(len(carweight)): #xtest may be problem!\n",
    "            kern_array = []\n",
    "            for j in range(len(carweight)):\n",
    "                kern_array.append(kernelize(carweight.loc[i], carweight.loc[j], real_b))\n",
    "            z1 = np.transpose(pd.DataFrame(kern_array))\n",
    "            #z2 = np.reshape(weight_multiplier[var][b], ((len(weight_multiplier), 1))) \n",
    "            z2 = np.reshape(weight_multiplier[var][b], ((len(weight_multiplier[0][0]), 1))) \n",
    "            est_array.append(np.dot(z1, z2))\n",
    "        est_array = np.squeeze(est_array)\n",
    "        temp_matrix.append(est_array)\n",
    "    weight_estimate_matrix.append(temp_matrix)"
   ]
  },
  {
   "cell_type": "code",
   "execution_count": 286,
   "metadata": {
    "collapsed": true
   },
   "outputs": [],
   "source": [
    "weight_estimate_matrix = np.squeeze(weight_estimate_matrix)"
   ]
  },
  {
   "cell_type": "code",
   "execution_count": 366,
   "metadata": {
    "collapsed": false
   },
   "outputs": [
    {
     "data": {
      "image/png": "[encoded data removed]",
      "text/plain": [
       "<matplotlib.figure.Figure at 0x111b88a20>"
      ]
     },
     "metadata": {},
     "output_type": "display_data"
    }
   ],
   "source": [
    "fig = plt.figure()\n",
    "labels = ['predicted', 'observed']\n",
    "\n",
    "points = plt.scatter(carweight, ytrain[0])\n",
    "#lines = plt.plot(carweight, weight_estimate_matrix)\n",
    "#line = plt.scatter(carweight, weight_estimate_matrix)\n",
    "example = plt.plot(np.sort(carweight), -np.sort(-weight_estimate_matrix))\n",
    "\n",
    "plt.setp(points, color='orange')\n",
    "\n",
    "plt.legend(labels)\n",
    "plt.xlabel('Adjusted Car Weight feature')\n",
    "plt.ylabel('Adjusted MPG feature')\n",
    "\n",
    "plt.show()"
   ]
  },
  {
   "cell_type": "code",
   "execution_count": 368,
   "metadata": {
    "collapsed": false
   },
   "outputs": [
    {
     "name": "stdout",
     "output_type": "stream",
     "text": [
      "[NbConvertApp] Converting notebook Gaussian_Process.ipynb to script\n",
      "[NbConvertApp] Writing 5354 bytes to Gaussian_Process.py\n"
     ]
    }
   ],
   "source": [
    "!jupyter nbconvert --to script Gaussian_Process.ipynb"
   ]
  },
  {
   "cell_type": "code",
   "execution_count": null,
   "metadata": {
    "collapsed": true
   },
   "outputs": [],
   "source": []
  }
 ],
 "metadata": {
  "anaconda-cloud": {},
  "kernelspec": {
   "display_name": "Python [default]",
   "language": "python",
   "name": "python3"
  },
  "language_info": {
   "codemirror_mode": {
    "name": "ipython",
    "version": 3
   },
   "file_extension": ".py",
   "mimetype": "text/x-python",
   "name": "python",
   "nbconvert_exporter": "python",
   "pygments_lexer": "ipython3",
   "version": "3.5.2"
  }
 },
 "nbformat": 4,
 "nbformat_minor": 1
}
