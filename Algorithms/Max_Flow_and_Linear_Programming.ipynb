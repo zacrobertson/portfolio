{
 "cells": [
  {
   "cell_type": "markdown",
   "metadata": {},
   "source": [
    "# Generalizations of Max-Flow\n",
    "\n",
    "The purpose of this assignment is to learn about the min-cost flow problem, a generalization of max-flow, and to familiarize yourself with implementing and solving linear programs."
   ]
  },
  {
   "cell_type": "markdown",
   "metadata": {},
   "source": [
    "## Min-Cost Flow\n",
    "\n",
    "Recall that a flow network with demands consists of a directed graph $G = (V, E)$, where each edge $(i,j) \\in E$ has a positive integer capacity $c_{ij}$ and each node $i \\in V$ has an integer demand $d_i$. In a *min-cost flow* problem, each edge $(i,j) \\in E$ also has a cost (or weight) $w_{ij}$. (Note that this input generalizes the input to two important problems we discussed so far: in max flow, the edge weights were not important while in shortest paths, the edge capacities were not important.) \n",
    "\n",
    "Given a flow network with capacities and costs, the goal is to find a *feasible* flow $f: E \\rightarrow R^+$ --that is, a flow satisfying edge capacity constraints and node demands-- that minimizes the total cost of the flow. Explicitly, the problem can be formulated as a linear program."
   ]
  },
  {
   "cell_type": "markdown",
   "metadata": {},
   "source": [
    "### Question 1\n",
    "\n",
    "Answer Problem 1 in HW4-theoretical."
   ]
  },
  {
   "cell_type": "markdown",
   "metadata": {},
   "source": [
    "### Question 2\n",
    "\n",
    "To implement your reduction from Problem 1 in HW4-theoretical, you will work with some standard benchmark instances for min-cost flow found [here](http://elib.zib.de/pub/Packages/mp-testdata/mincost/gte/index.html). The format of the data is described in the [Info](http://elib.zib.de/pub/Packages/mp-testdata/mincost/gte/info) file. You are to read in the graph from the data file in a form that can be solved using NetworkX's `min_cost_flow` function. Note that the data sometimes lists multiple edges between the same nodes, but with different costs or capacities. In forming the graph, you need to implement your reduction from the previous question and form a `DiGraph` instance, because the `min_cost_flow` function cannot handle multi-edges, even though the package offers `MultiDiGraph` objects."
   ]
  },
  {
   "cell_type": "code",
   "execution_count": 56,
   "metadata": {
    "collapsed": false,
    "scrolled": true
   },
   "outputs": [],
   "source": [
    "import networkx as nx\n",
    "\n",
    "def create_graph(infile):\n",
    "    \"\"\"Creates a directed graph as specified by the input file. Edges are annotated with 'capacity'\n",
    "    and 'weight' attributes, and nodes are annotated with 'demand' attributes.\n",
    "    \n",
    "    Args:\n",
    "        infile: the input file using the format to specify a min-cost flow problem.\n",
    "        \n",
    "    Returns:\n",
    "        A directed graph (but not a multi-graph) with edges annotated with 'capacity' and 'weight' attributes\n",
    "        and nodes annotated with 'demand' attributes.\n",
    "    \"\"\"\n",
    "    # TODO: implement function\n",
    "    \n",
    "    with open(infile) as f:\n",
    "        content = f.readlines()    \n",
    " \n",
    "    list_of_edges = []\n",
    "    graph = nx.Graph()\n",
    "    \n",
    "    #Get the total number of nodes\n",
    "    for line in content:\n",
    "        if line[:1] == 'p':\n",
    "            separated_p = line.split()\n",
    "            number_of_nodes = int(separated_p[2])\n",
    "    \n",
    "    #Add the appropriate number of nodes\n",
    "    for n in range(1, number_of_nodes + 1):\n",
    "        graph.add_node(n)\n",
    "    \n",
    "    #Assign node demands\n",
    "    for line in content:        \n",
    "        if line[:1] == 'n':\n",
    "            separated_n = line.split()\n",
    "            graph.node[int(separated_n[1])]['demand'] = int(separated_n[2])\n",
    "            \n",
    "    #Create edges with capacities and weights\n",
    "    #Keep new edges as they are. For multi-edges, create dummy nodes and dummy edges\n",
    "    #All dummy edge capacities are equivalent to originals. First cost is equivalent, second is zero.\n",
    "    for line in content:\n",
    "        if line[:1] == 'a':\n",
    "            separated_a = line.split()\n",
    "            s1 = separated_a[1]\n",
    "            s2 = separated_a[2]\n",
    "            if (int(s1), int(s2)) not in graph.edges():\n",
    "                graph.add_edge(int(s1), int(s2))\n",
    "                graph.edge[int(s1)][int(s2)]['capacity'] = int(separated_a[4])\n",
    "                graph.edge[int(s1)][int(s2)]['weight'] = int(separated_a[5])\n",
    "            if (int(s1), int(s2)) in graph.edges():\n",
    "                number_of_nodes += 1\n",
    "                graph.add_node(number_of_nodes)                \n",
    "                graph.add_edge(int(s1), number_of_nodes)\n",
    "                graph.add_edge(number_of_nodes, int(s2))\n",
    "                graph.edge[int(s1)][number_of_nodes]['capacity'] = int(separated_a[4])\n",
    "                graph.edge[int(s1)][number_of_nodes]['weight'] = int(separated_a[5])\n",
    "                graph.edge[number_of_nodes][int(s2)]['capacity'] = int(separated_a[4])\n",
    "                graph.edge[number_of_nodes][int(s2)]['weight'] = 0\n",
    "                \n",
    "    graph = nx.DiGraph(graph)\n",
    "    \n",
    "    return graph"
   ]
  },
  {
   "cell_type": "markdown",
   "metadata": {},
   "source": [
    "The following will check that your code outputs the expected min cost flow values on several test instances."
   ]
  },
  {
   "cell_type": "code",
   "execution_count": 57,
   "metadata": {
    "collapsed": false
   },
   "outputs": [
    {
     "name": "stdout",
     "output_type": "stream",
     "text": [
      "Correct value for _40 instance: True\n",
      "Correct value for _6830 instance: True\n",
      "Correct value for _176280 instance: True\n"
     ]
    }
   ],
   "source": [
    "G_40 = create_graph('gte_bad.40')\n",
    "G_6830 = create_graph('gte_bad.6830')\n",
    "G_176280 = create_graph('gte_bad.176280')\n",
    "\n",
    "print \"Correct value for _40 instance:\", nx.min_cost_flow_cost(G_40) == 52099553858\n",
    "print \"Correct value for _6830 instance:\", nx.min_cost_flow_cost(G_6830) == 299390431788\n",
    "print \"Correct value for _176280 instance:\", nx.min_cost_flow_cost(G_176280) == 510585093810"
   ]
  },
  {
   "cell_type": "markdown",
   "metadata": {},
   "source": [
    "## Linear Programming\n",
    "\n",
    "Instead of using special-purpose min-cost flow solvers, you will now formulate the problems as linear programs and use general-purpose LP solvers to find the solutions."
   ]
  },
  {
   "cell_type": "markdown",
   "metadata": {},
   "source": [
    "### Question 3\n",
    "\n",
    "Implement the following function to formulate the flow LP and return the optimal value (i.e., minimum cost over feasible flows)."
   ]
  },
  {
   "cell_type": "code",
   "execution_count": 58,
   "metadata": {
    "collapsed": false
   },
   "outputs": [],
   "source": [
    "import pulp\n",
    "\n",
    "def lp_flow_value(G):\n",
    "    \"\"\"Computes the value of the minimum cost flow by formulating and solving\n",
    "    the problem as an LP.\n",
    "    \n",
    "    Args:\n",
    "        G: a directed graph with edges annotated with 'capacity' and 'weight'\n",
    "            attrbutes, and nodes annotated with 'demand' attributes.\n",
    "            \n",
    "    Returns:\n",
    "        The value of the minimum cost flow.\n",
    "    \"\"\"\n",
    "    # TODO: implement function\n",
    "    \n",
    "    #Assign edges as variables\n",
    "    vars = pulp.LpVariable.dicts(\"Route\", G.edges(), None, None, pulp.LpInteger)\n",
    "    \n",
    "    node_supply = {}\n",
    "    node_demand = {}\n",
    "    \n",
    "    #Create dictionaries for node supply and demand\n",
    "    for n in G.nodes():\n",
    "        if 'demand' in G.node[n]:\n",
    "            if G.node[n]['demand'] > 0:\n",
    "                node_supply[n] = 0\n",
    "                node_demand[n] = G.node[n]['demand']\n",
    "            elif G.node[n]['demand'] < 0:\n",
    "                node_supply[n] = -G.node[n]['demand']\n",
    "                node_demand[n] = 0\n",
    "            else:\n",
    "                node_supply[n] = 0\n",
    "                node_demand[n] = 0\n",
    "        else:\n",
    "            node_supply[n] = 0\n",
    "            node_demand[n] = 0\n",
    "    \n",
    "    #Create constraints from edge capacities\n",
    "    for s1, s2 in G.edges():\n",
    "        vars[(s1, s2)].bounds(0, G.edge[s1][s2]['capacity'])\n",
    "        \n",
    "    prob = pulp.LpProblem(\"Min Cost Flow HW4\", pulp.LpMinimize)\n",
    "    \n",
    "    #Total Cost = Flow times Cost for each edge\n",
    "    prob += pulp.lpSum([vars[(s1, s2)] * G.edge[s1][s2]['weight'] for s1, s2 in G.edges()]), \"Total Cost\"\n",
    "    \n",
    "    #Flow conservation constraint\n",
    "    for node in G.nodes():\n",
    "        prob += (node_supply[node] + pulp.lpSum([vars[(i,j)] for (i,j) in G.edges() if j == node]) >=\n",
    "                 node_demand[node] + pulp.lpSum([vars[(i,j)] for (i,j) in G.edges() if i == node])), \\\n",
    "                \"Flow Conservation in Node %s\"%node\n",
    "    \n",
    "    prob.solve()\n",
    "    \n",
    "    return pulp.value(prob.objective)\n"
   ]
  },
  {
   "cell_type": "markdown",
   "metadata": {},
   "source": [
    "The following will check that the LP finds the same optimal values as previously."
   ]
  },
  {
   "cell_type": "code",
   "execution_count": 59,
   "metadata": {
    "collapsed": false
   },
   "outputs": [
    {
     "name": "stdout",
     "output_type": "stream",
     "text": [
      "Correct value for _40 instance: True\n",
      "Correct value for _6830 instance: True\n",
      "Correct value for _176280 instance: True\n"
     ]
    }
   ],
   "source": [
    "print \"Correct value for _40 instance:\", lp_flow_value(G_40) == 52099553858\n",
    "print \"Correct value for _6830 instance:\", lp_flow_value(G_6830) == 299390431788\n",
    "print \"Correct value for _176280 instance:\", lp_flow_value(G_176280) == 510585093810"
   ]
  },
  {
   "cell_type": "code",
   "execution_count": null,
   "metadata": {
    "collapsed": true
   },
   "outputs": [],
   "source": []
  }
 ],
 "metadata": {
  "anaconda-cloud": {},
  "kernelspec": {
   "display_name": "Python [default]",
   "language": "python",
   "name": "python2"
  },
  "language_info": {
   "codemirror_mode": {
    "name": "ipython",
    "version": 2
   },
   "file_extension": ".py",
   "mimetype": "text/x-python",
   "name": "python",
   "nbconvert_exporter": "python",
   "pygments_lexer": "ipython2",
   "version": "2.7.12"
  }
 },
 "nbformat": 4,
 "nbformat_minor": 0
}
