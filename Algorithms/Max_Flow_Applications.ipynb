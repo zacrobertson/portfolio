{
 "cells": [
  {
   "cell_type": "markdown",
   "metadata": {},
   "source": [
    "# Max Flow Applications\n",
    "\n",
    "The purpose of this assignment is to investigate applications of finding a Max Flow. The problem asks you to design and implement an algorithm for shipping a material between nodes with different supply and demand requirements.\n",
    "\n",
    "* Please write code *only* in the bodies of the two functions, that is, following the TODO comments.\n",
    "* Be careful not to use varibles defined outside of the functions.\n",
    "* Breaking the two above rules may lead to 0 grades."
   ]
  },
  {
   "cell_type": "markdown",
   "metadata": {},
   "source": [
    "## Movie distribution\n",
    "\n",
    "First solve Problem 3 from HW3-theoretical. \n",
    "\n",
    "Now suppose a movie distributor would like to ship a copy of a film from CA to every other state. There are therefore 48 units to ship out of CA, and each other state receives 1 unit. \n",
    "\n",
    "The dataset contiguous-usa.dat lists the adjacent states in the US. Each line lists two adjacent states; thus AK and HI are omitted, but DC is included in the data. The following code reads in the graph of US states."
   ]
  },
  {
   "cell_type": "code",
   "execution_count": 573,
   "metadata": {
    "collapsed": false
   },
   "outputs": [],
   "source": [
    "import networkx as nx\n",
    "G = nx.Graph()\n",
    "\n",
    "usa = open('contiguous-usa.dat')\n",
    "for line in usa:\n",
    "    s1, s2 = line.strip().split()\n",
    "    G.add_edge(s1, s2)"
   ]
  },
  {
   "cell_type": "markdown",
   "metadata": {
    "collapsed": false
   },
   "source": [
    "We now encode the demands into the graph."
   ]
  },
  {
   "cell_type": "code",
   "execution_count": 574,
   "metadata": {
    "collapsed": false
   },
   "outputs": [],
   "source": [
    "for state in G.nodes():\n",
    "    if state != 'CA':\n",
    "        G.node[state]['demand'] = 1\n",
    "G.node['CA']['demand'] = -48"
   ]
  },
  {
   "cell_type": "markdown",
   "metadata": {
    "collapsed": false
   },
   "source": [
    "We will assign a uniform capacity of 16 to each edge. Since CA has only three adjacent states, this is the smallest possible uniform capacity that allows one to ship all 48 units out of CA. As we have created an undirected graph, and flows have directions, we first convert the graph to a directed graph."
   ]
  },
  {
   "cell_type": "code",
   "execution_count": 575,
   "metadata": {
    "collapsed": false
   },
   "outputs": [],
   "source": [
    "G = nx.DiGraph(G)\n",
    "uniform_capacity = 16\n",
    "for (s1, s2) in G.edges():\n",
    "    G.edge[s1][s2]['capacity'] = uniform_capacity"
   ]
  },
  {
   "cell_type": "markdown",
   "metadata": {},
   "source": [
    "Complete the following function to implement your algorithm to find a flow with demands. Your function should work correctly for any input, not just the movie instance considered here. As always, you are encouraged to define auxiliary functions as needed for clarity."
   ]
  },
  {
   "cell_type": "code",
   "execution_count": 576,
   "metadata": {
    "collapsed": false
   },
   "outputs": [],
   "source": [
    "def flow_with_demands(graph):\n",
    "    \"\"\"Computes a flow with demands over the given graph.\n",
    "    \n",
    "    Args:\n",
    "        graph: A directed graph with nodes annotated with 'demand' properties and edges annotated with 'capacity' \n",
    "            properties.\n",
    "        \n",
    "    Returns:\n",
    "        A dict of dicts containing the flow on each edge. For instance, flow[s1][s2] should provide the flow along\n",
    "        edge (s1, s2).\n",
    "        \n",
    "    Raises:\n",
    "        NetworkXUnfeasible: An error is thrown if there is no flow satisfying the demands.    \n",
    "    \n",
    "    \"\"\"\n",
    "    #create temporary instance of input graph\n",
    "    graph_copy = graph.copy()\n",
    "    \n",
    "    #create blank lists indicating which nodes in original graph are sources and sinks\n",
    "    #also keep tally of total demand for both sources and sinks\n",
    "    real_sources = []\n",
    "    real_sinks = []\n",
    "    total_source_demand = 0\n",
    "    total_sink_demand = 0\n",
    "    \n",
    "    #sources have demand < 0; sinks have demand > 0\n",
    "    for state in graph_copy.nodes():\n",
    "        if graph_copy.node[state][\"demand\"] < 0:\n",
    "            real_sources.append(state)\n",
    "            total_source_demand += graph_copy.node[state][\"demand\"]\n",
    "        if graph_copy.node[state][\"demand\"] > 0:\n",
    "            real_sinks.append(state)\n",
    "            total_sink_demand += graph_copy.node[state][\"demand\"]\n",
    "            \n",
    "    if total_source_demand + total_sink_demand != 0:\n",
    "        raise nx.NetworkXUnfeasible(\"Network Unfeasible\")\n",
    "    \n",
    "    #create dummy nodes allowing problem to be reduced to max flow\n",
    "    graph_copy.add_node(\"dummy_source\")\n",
    "    graph_copy.add_node(\"dummy_sink\")\n",
    "    \n",
    "    #add edges from dummy source to real sources and from real sinks to dummy sink\n",
    "    for source in real_sources:\n",
    "        graph_copy.add_edge(\"dummy_source\", source)\n",
    "        \n",
    "    for sink in real_sinks:\n",
    "        graph_copy.add_edge(sink, \"dummy_sink\")\n",
    "    \n",
    "    for (s1, s2) in graph_copy.edges():\n",
    "        if s2 == \"dummy_sink\":\n",
    "            graph_copy.edge[s1][s2]['capacity'] = 1\n",
    "            \n",
    "    #get maxflow and flow along each edge        \n",
    "    maxflow, flow_dict = nx.maximum_flow(graph_copy, 'dummy_source', 'dummy_sink')\n",
    "    \n",
    "    #necessary condition\n",
    "    if maxflow < total_sink_demand:\n",
    "        raise nx.NetworkXUnfeasible(\"Network Unfeasible\") \n",
    "    \n",
    "    #create new dict, removing dummy_source and dummy_sink from results\n",
    "    flow_dict_clean = {}\n",
    "    \n",
    "    for state1, block2 in flow_dict.iteritems():\n",
    "        if state1 != 'dummy_source' and state1 != 'dummy_sink':\n",
    "            for state2, edge_flow in block2.iteritems():\n",
    "                flow_dict_clean[state1] = {state2:flow_dict[state1][state2] for state2 in flow_dict[state1] if (state2 != 'dummy_source' and state2 != 'dummy_sink')}\n",
    "        \n",
    "    return flow_dict_clean"
   ]
  },
  {
   "cell_type": "markdown",
   "metadata": {},
   "source": [
    "To verify that your solution is correct, implement a function that computes the total flow into each node (which will be negative for supply nodes)."
   ]
  },
  {
   "cell_type": "code",
   "execution_count": 571,
   "metadata": {
    "collapsed": false
   },
   "outputs": [],
   "source": [
    "def divergence(flow):\n",
    "    \"\"\"Computes the total flow into each node according to the given flow dict.\n",
    "    \n",
    "    Args:\n",
    "        flow: the flow dict recording flow between nodes.\n",
    "        \n",
    "    Returns:\n",
    "        A dict of the net flow into each node.\n",
    "    \"\"\"\n",
    "    # TODO: Implement the function.\n",
    "    \n",
    "    net_flow = {}\n",
    "\n",
    "    #If a state is listed first in an edge, subtract that flow from its net flow. If listed second, add to net flow.\n",
    "    for state1, block2 in flow.iteritems():\n",
    "        for state2, edge_flow in block2.iteritems():\n",
    "            if state1 not in net_flow:\n",
    "                net_flow[state1] = -flow[state1][state2]\n",
    "            else:\n",
    "                net_flow[state1] = net_flow[state1] - flow[state1][state2]\n",
    "            if state2 not in net_flow:\n",
    "                net_flow[state2] = flow[state1][state2]\n",
    "            else:\n",
    "                net_flow[state2] = net_flow[state2] + flow[state1][state2]\n",
    "            \n",
    "    \n",
    "    return net_flow"
   ]
  },
  {
   "cell_type": "markdown",
   "metadata": {},
   "source": [
    "The following code performs a sanity check on your function (but does not completely confirm correctness)."
   ]
  },
  {
   "cell_type": "code",
   "execution_count": 572,
   "metadata": {
    "collapsed": false
   },
   "outputs": [
    {
     "name": "stdout",
     "output_type": "stream",
     "text": [
      "Flow satisfies all demands: True\n"
     ]
    }
   ],
   "source": [
    "flow = flow_with_demands(G)\n",
    "div = divergence(flow)\n",
    "print \"Flow satisfies all demands:\", all(div[n] == G.node[n]['demand'] for n in G.nodes())"
   ]
  },
  {
   "cell_type": "code",
   "execution_count": 578,
   "metadata": {
    "collapsed": false
   },
   "outputs": [
    {
     "data": {
      "text/plain": [
       "{'AL': 1,\n",
       " 'AR': 1,\n",
       " 'AZ': 1,\n",
       " 'CA': -48,\n",
       " 'CO': 1,\n",
       " 'CT': 1,\n",
       " 'DC': 1,\n",
       " 'DE': 1,\n",
       " 'FL': 1,\n",
       " 'GA': 1,\n",
       " 'IA': 1,\n",
       " 'ID': 1,\n",
       " 'IL': 1,\n",
       " 'IN': 1,\n",
       " 'KS': 1,\n",
       " 'KY': 1,\n",
       " 'LA': 1,\n",
       " 'MA': 1,\n",
       " 'MD': 1,\n",
       " 'ME': 1,\n",
       " 'MI': 1,\n",
       " 'MN': 1,\n",
       " 'MO': 1,\n",
       " 'MS': 1,\n",
       " 'MT': 1,\n",
       " 'NC': 1,\n",
       " 'ND': 1,\n",
       " 'NE': 1,\n",
       " 'NH': 1,\n",
       " 'NJ': 1,\n",
       " 'NM': 1,\n",
       " 'NV': 1,\n",
       " 'NY': 1,\n",
       " 'OH': 1,\n",
       " 'OK': 1,\n",
       " 'OR': 1,\n",
       " 'PA': 1,\n",
       " 'RI': 1,\n",
       " 'SC': 1,\n",
       " 'SD': 1,\n",
       " 'TN': 1,\n",
       " 'TX': 1,\n",
       " 'UT': 1,\n",
       " 'VA': 1,\n",
       " 'VT': 1,\n",
       " 'WA': 1,\n",
       " 'WI': 1,\n",
       " 'WV': 1,\n",
       " 'WY': 1}"
      ]
     },
     "execution_count": 578,
     "metadata": {},
     "output_type": "execute_result"
    }
   ],
   "source": [
    "div"
   ]
  },
  {
   "cell_type": "code",
   "execution_count": null,
   "metadata": {
    "collapsed": true
   },
   "outputs": [],
   "source": []
  }
 ],
 "metadata": {
  "anaconda-cloud": {},
  "kernelspec": {
   "display_name": "Python [default]",
   "language": "python",
   "name": "python2"
  },
  "language_info": {
   "codemirror_mode": {
    "name": "ipython",
    "version": 2
   },
   "file_extension": ".py",
   "mimetype": "text/x-python",
   "name": "python",
   "nbconvert_exporter": "python",
   "pygments_lexer": "ipython2",
   "version": "2.7.12"
  }
 },
 "nbformat": 4,
 "nbformat_minor": 0
}
